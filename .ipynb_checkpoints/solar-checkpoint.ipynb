{
 "cells": [
  {
   "cell_type": "code",
   "execution_count": 60,
   "id": "a651c5fa-2b43-4382-9dee-d1d3cbb8e51e",
   "metadata": {},
   "outputs": [],
   "source": [
    "import pandas as pd\n",
    "import matplotlib as plt\n",
    "import numpy as np\n",
    "import seaborn as sns\n",
    "sns.set_theme()\n",
    "%matplotlib inline"
   ]
  },
  {
   "cell_type": "code",
   "execution_count": 68,
   "id": "33a8e5f0-ba1e-4ec1-9a35-14dcc895de4e",
   "metadata": {},
   "outputs": [
    {
     "name": "stdout",
     "output_type": "stream",
     "text": [
      "['state', 'last_changed']\n"
     ]
    }
   ],
   "source": [
    "df = pd.read_csv(\"solar_data.csv\", header=0)\n",
    "df.head(n=10)\n",
    "print([c for c in df.columns])"
   ]
  },
  {
   "cell_type": "code",
   "execution_count": 62,
   "id": "4cef2355-1807-4e0b-b99e-d116b1b83792",
   "metadata": {},
   "outputs": [
    {
     "data": {
      "text/plain": [
       "(98855, 3)"
      ]
     },
     "execution_count": 62,
     "metadata": {},
     "output_type": "execute_result"
    }
   ],
   "source": [
    "df.shape"
   ]
  },
  {
   "cell_type": "code",
   "execution_count": 63,
   "id": "adaf9bad-80cd-4292-b86e-9cc9a9e37f02",
   "metadata": {},
   "outputs": [
    {
     "data": {
      "text/plain": [
       "<bound method DataFrame.info of                          entity_id state              last_changed\n",
       "0      sensor.axpert_king_pv_power     0  2025-09-17T21:00:00.000Z\n",
       "1      sensor.axpert_king_pv_power     0  2025-09-17T21:00:00.000Z\n",
       "2      sensor.axpert_king_pv_power     3  2025-09-18T03:40:25.074Z\n",
       "3      sensor.axpert_king_pv_power     3  2025-09-18T03:40:25.074Z\n",
       "4      sensor.axpert_king_pv_power    18  2025-09-18T03:40:32.946Z\n",
       "...                            ...   ...                       ...\n",
       "98850  sensor.axpert_king_pv_power  1076  2025-09-21T10:36:00.073Z\n",
       "98851  sensor.axpert_king_pv_power  1088  2025-09-21T10:36:02.048Z\n",
       "98852  sensor.axpert_king_pv_power  1075  2025-09-21T10:36:04.011Z\n",
       "98853  sensor.axpert_king_pv_power  1079  2025-09-21T10:36:05.976Z\n",
       "98854  sensor.axpert_king_pv_power  1067  2025-09-21T10:36:07.975Z\n",
       "\n",
       "[98855 rows x 3 columns]>"
      ]
     },
     "execution_count": 63,
     "metadata": {},
     "output_type": "execute_result"
    }
   ],
   "source": [
    "df.info"
   ]
  },
  {
   "cell_type": "code",
   "execution_count": 64,
   "id": "687e05cc-d77b-47be-bb5c-df43e3ba1d5f",
   "metadata": {},
   "outputs": [
    {
     "data": {
      "text/plain": [
       "<bound method NDFrame.describe of                          entity_id state              last_changed\n",
       "0      sensor.axpert_king_pv_power     0  2025-09-17T21:00:00.000Z\n",
       "1      sensor.axpert_king_pv_power     0  2025-09-17T21:00:00.000Z\n",
       "2      sensor.axpert_king_pv_power     3  2025-09-18T03:40:25.074Z\n",
       "3      sensor.axpert_king_pv_power     3  2025-09-18T03:40:25.074Z\n",
       "4      sensor.axpert_king_pv_power    18  2025-09-18T03:40:32.946Z\n",
       "...                            ...   ...                       ...\n",
       "98850  sensor.axpert_king_pv_power  1076  2025-09-21T10:36:00.073Z\n",
       "98851  sensor.axpert_king_pv_power  1088  2025-09-21T10:36:02.048Z\n",
       "98852  sensor.axpert_king_pv_power  1075  2025-09-21T10:36:04.011Z\n",
       "98853  sensor.axpert_king_pv_power  1079  2025-09-21T10:36:05.976Z\n",
       "98854  sensor.axpert_king_pv_power  1067  2025-09-21T10:36:07.975Z\n",
       "\n",
       "[98855 rows x 3 columns]>"
      ]
     },
     "execution_count": 64,
     "metadata": {},
     "output_type": "execute_result"
    }
   ],
   "source": [
    "df.describe"
   ]
  },
  {
   "cell_type": "code",
   "execution_count": 65,
   "id": "4ff7fdf1-e996-4357-ad02-c2b1d04fb289",
   "metadata": {},
   "outputs": [
    {
     "data": {
      "text/html": [
       "<div>\n",
       "<style scoped>\n",
       "    .dataframe tbody tr th:only-of-type {\n",
       "        vertical-align: middle;\n",
       "    }\n",
       "\n",
       "    .dataframe tbody tr th {\n",
       "        vertical-align: top;\n",
       "    }\n",
       "\n",
       "    .dataframe thead th {\n",
       "        text-align: right;\n",
       "    }\n",
       "</style>\n",
       "<table border=\"1\" class=\"dataframe\">\n",
       "  <thead>\n",
       "    <tr style=\"text-align: right;\">\n",
       "      <th></th>\n",
       "      <th>entity_id</th>\n",
       "      <th>state</th>\n",
       "      <th>last_changed</th>\n",
       "    </tr>\n",
       "  </thead>\n",
       "  <tbody>\n",
       "    <tr>\n",
       "      <th>0</th>\n",
       "      <td>sensor.axpert_king_pv_power</td>\n",
       "      <td>0</td>\n",
       "      <td>2025-09-17T21:00:00.000Z</td>\n",
       "    </tr>\n",
       "    <tr>\n",
       "      <th>2</th>\n",
       "      <td>sensor.axpert_king_pv_power</td>\n",
       "      <td>3</td>\n",
       "      <td>2025-09-18T03:40:25.074Z</td>\n",
       "    </tr>\n",
       "    <tr>\n",
       "      <th>4</th>\n",
       "      <td>sensor.axpert_king_pv_power</td>\n",
       "      <td>18</td>\n",
       "      <td>2025-09-18T03:40:32.946Z</td>\n",
       "    </tr>\n",
       "    <tr>\n",
       "      <th>6</th>\n",
       "      <td>sensor.axpert_king_pv_power</td>\n",
       "      <td>0</td>\n",
       "      <td>2025-09-18T03:40:46.928Z</td>\n",
       "    </tr>\n",
       "    <tr>\n",
       "      <th>8</th>\n",
       "      <td>sensor.axpert_king_pv_power</td>\n",
       "      <td>6</td>\n",
       "      <td>2025-09-18T03:40:54.802Z</td>\n",
       "    </tr>\n",
       "    <tr>\n",
       "      <th>...</th>\n",
       "      <td>...</td>\n",
       "      <td>...</td>\n",
       "      <td>...</td>\n",
       "    </tr>\n",
       "    <tr>\n",
       "      <th>98850</th>\n",
       "      <td>sensor.axpert_king_pv_power</td>\n",
       "      <td>1076</td>\n",
       "      <td>2025-09-21T10:36:00.073Z</td>\n",
       "    </tr>\n",
       "    <tr>\n",
       "      <th>98851</th>\n",
       "      <td>sensor.axpert_king_pv_power</td>\n",
       "      <td>1088</td>\n",
       "      <td>2025-09-21T10:36:02.048Z</td>\n",
       "    </tr>\n",
       "    <tr>\n",
       "      <th>98852</th>\n",
       "      <td>sensor.axpert_king_pv_power</td>\n",
       "      <td>1075</td>\n",
       "      <td>2025-09-21T10:36:04.011Z</td>\n",
       "    </tr>\n",
       "    <tr>\n",
       "      <th>98853</th>\n",
       "      <td>sensor.axpert_king_pv_power</td>\n",
       "      <td>1079</td>\n",
       "      <td>2025-09-21T10:36:05.976Z</td>\n",
       "    </tr>\n",
       "    <tr>\n",
       "      <th>98854</th>\n",
       "      <td>sensor.axpert_king_pv_power</td>\n",
       "      <td>1067</td>\n",
       "      <td>2025-09-21T10:36:07.975Z</td>\n",
       "    </tr>\n",
       "  </tbody>\n",
       "</table>\n",
       "<p>49488 rows × 3 columns</p>\n",
       "</div>"
      ],
      "text/plain": [
       "                         entity_id state              last_changed\n",
       "0      sensor.axpert_king_pv_power     0  2025-09-17T21:00:00.000Z\n",
       "2      sensor.axpert_king_pv_power     3  2025-09-18T03:40:25.074Z\n",
       "4      sensor.axpert_king_pv_power    18  2025-09-18T03:40:32.946Z\n",
       "6      sensor.axpert_king_pv_power     0  2025-09-18T03:40:46.928Z\n",
       "8      sensor.axpert_king_pv_power     6  2025-09-18T03:40:54.802Z\n",
       "...                            ...   ...                       ...\n",
       "98850  sensor.axpert_king_pv_power  1076  2025-09-21T10:36:00.073Z\n",
       "98851  sensor.axpert_king_pv_power  1088  2025-09-21T10:36:02.048Z\n",
       "98852  sensor.axpert_king_pv_power  1075  2025-09-21T10:36:04.011Z\n",
       "98853  sensor.axpert_king_pv_power  1079  2025-09-21T10:36:05.976Z\n",
       "98854  sensor.axpert_king_pv_power  1067  2025-09-21T10:36:07.975Z\n",
       "\n",
       "[49488 rows x 3 columns]"
      ]
     },
     "execution_count": 65,
     "metadata": {},
     "output_type": "execute_result"
    }
   ],
   "source": [
    "df.dtypes\n",
    "df.dropna()\n",
    "df.drop_duplicates()"
   ]
  },
  {
   "cell_type": "code",
   "execution_count": 66,
   "id": "fa78c334-09d4-4f8b-8aba-1b017139c6f4",
   "metadata": {},
   "outputs": [
    {
     "ename": "TypeError",
     "evalue": "no numeric data to plot",
     "output_type": "error",
     "traceback": [
      "\u001b[0;31m---------------------------------------------------------------------------\u001b[0m",
      "\u001b[0;31mTypeError\u001b[0m                                 Traceback (most recent call last)",
      "Cell \u001b[0;32mIn[66], line 1\u001b[0m\n\u001b[0;32m----> 1\u001b[0m \u001b[43mdf\u001b[49m\u001b[38;5;241;43m.\u001b[39;49m\u001b[43mset_index\u001b[49m\u001b[43m(\u001b[49m\u001b[38;5;124;43m'\u001b[39;49m\u001b[38;5;124;43mlast_changed\u001b[39;49m\u001b[38;5;124;43m'\u001b[39;49m\u001b[43m)\u001b[49m\u001b[43m[\u001b[49m\u001b[38;5;124;43m'\u001b[39;49m\u001b[38;5;124;43mstate\u001b[39;49m\u001b[38;5;124;43m'\u001b[39;49m\u001b[43m]\u001b[49m\u001b[38;5;241;43m.\u001b[39;49m\u001b[43mplot\u001b[49m\u001b[43m(\u001b[49m\u001b[43mfigsize\u001b[49m\u001b[38;5;241;43m=\u001b[39;49m\u001b[43m(\u001b[49m\u001b[38;5;241;43m12\u001b[39;49m\u001b[43m,\u001b[49m\u001b[38;5;241;43m6\u001b[39;49m\u001b[43m)\u001b[49m\u001b[43m,\u001b[49m\u001b[43m \u001b[49m\u001b[43mtitle\u001b[49m\u001b[38;5;241;43m=\u001b[39;49m\u001b[38;5;124;43m\"\u001b[39;49m\u001b[38;5;124;43mSolar Power Plot\u001b[39;49m\u001b[38;5;124;43m\"\u001b[39;49m\u001b[43m,\u001b[49m\u001b[43m \u001b[49m\u001b[43mxlabel\u001b[49m\u001b[43m \u001b[49m\u001b[38;5;241;43m=\u001b[39;49m\u001b[38;5;124;43m'\u001b[39;49m\u001b[38;5;124;43mtime\u001b[39;49m\u001b[38;5;124;43m'\u001b[39;49m\u001b[43m)\u001b[49m\n",
      "File \u001b[0;32m~/.local/lib/python3.10/site-packages/pandas/plotting/_core.py:1030\u001b[0m, in \u001b[0;36mPlotAccessor.__call__\u001b[0;34m(self, *args, **kwargs)\u001b[0m\n\u001b[1;32m   1027\u001b[0m             label_name \u001b[38;5;241m=\u001b[39m label_kw \u001b[38;5;129;01mor\u001b[39;00m data\u001b[38;5;241m.\u001b[39mcolumns\n\u001b[1;32m   1028\u001b[0m             data\u001b[38;5;241m.\u001b[39mcolumns \u001b[38;5;241m=\u001b[39m label_name\n\u001b[0;32m-> 1030\u001b[0m \u001b[38;5;28;01mreturn\u001b[39;00m \u001b[43mplot_backend\u001b[49m\u001b[38;5;241;43m.\u001b[39;49m\u001b[43mplot\u001b[49m\u001b[43m(\u001b[49m\u001b[43mdata\u001b[49m\u001b[43m,\u001b[49m\u001b[43m \u001b[49m\u001b[43mkind\u001b[49m\u001b[38;5;241;43m=\u001b[39;49m\u001b[43mkind\u001b[49m\u001b[43m,\u001b[49m\u001b[43m \u001b[49m\u001b[38;5;241;43m*\u001b[39;49m\u001b[38;5;241;43m*\u001b[39;49m\u001b[43mkwargs\u001b[49m\u001b[43m)\u001b[49m\n",
      "File \u001b[0;32m~/.local/lib/python3.10/site-packages/pandas/plotting/_matplotlib/__init__.py:71\u001b[0m, in \u001b[0;36mplot\u001b[0;34m(data, kind, **kwargs)\u001b[0m\n\u001b[1;32m     69\u001b[0m         kwargs[\u001b[38;5;124m\"\u001b[39m\u001b[38;5;124max\u001b[39m\u001b[38;5;124m\"\u001b[39m] \u001b[38;5;241m=\u001b[39m \u001b[38;5;28mgetattr\u001b[39m(ax, \u001b[38;5;124m\"\u001b[39m\u001b[38;5;124mleft_ax\u001b[39m\u001b[38;5;124m\"\u001b[39m, ax)\n\u001b[1;32m     70\u001b[0m plot_obj \u001b[38;5;241m=\u001b[39m PLOT_CLASSES[kind](data, \u001b[38;5;241m*\u001b[39m\u001b[38;5;241m*\u001b[39mkwargs)\n\u001b[0;32m---> 71\u001b[0m \u001b[43mplot_obj\u001b[49m\u001b[38;5;241;43m.\u001b[39;49m\u001b[43mgenerate\u001b[49m\u001b[43m(\u001b[49m\u001b[43m)\u001b[49m\n\u001b[1;32m     72\u001b[0m plot_obj\u001b[38;5;241m.\u001b[39mdraw()\n\u001b[1;32m     73\u001b[0m \u001b[38;5;28;01mreturn\u001b[39;00m plot_obj\u001b[38;5;241m.\u001b[39mresult\n",
      "File \u001b[0;32m~/.local/lib/python3.10/site-packages/pandas/plotting/_matplotlib/core.py:499\u001b[0m, in \u001b[0;36mMPLPlot.generate\u001b[0;34m(self)\u001b[0m\n\u001b[1;32m    497\u001b[0m \u001b[38;5;129m@final\u001b[39m\n\u001b[1;32m    498\u001b[0m \u001b[38;5;28;01mdef\u001b[39;00m \u001b[38;5;21mgenerate\u001b[39m(\u001b[38;5;28mself\u001b[39m) \u001b[38;5;241m-\u001b[39m\u001b[38;5;241m>\u001b[39m \u001b[38;5;28;01mNone\u001b[39;00m:\n\u001b[0;32m--> 499\u001b[0m     \u001b[38;5;28;43mself\u001b[39;49m\u001b[38;5;241;43m.\u001b[39;49m\u001b[43m_compute_plot_data\u001b[49m\u001b[43m(\u001b[49m\u001b[43m)\u001b[49m\n\u001b[1;32m    500\u001b[0m     fig \u001b[38;5;241m=\u001b[39m \u001b[38;5;28mself\u001b[39m\u001b[38;5;241m.\u001b[39mfig\n\u001b[1;32m    501\u001b[0m     \u001b[38;5;28mself\u001b[39m\u001b[38;5;241m.\u001b[39m_make_plot(fig)\n",
      "File \u001b[0;32m~/.local/lib/python3.10/site-packages/pandas/plotting/_matplotlib/core.py:698\u001b[0m, in \u001b[0;36mMPLPlot._compute_plot_data\u001b[0;34m(self)\u001b[0m\n\u001b[1;32m    696\u001b[0m \u001b[38;5;66;03m# no non-numeric frames or series allowed\u001b[39;00m\n\u001b[1;32m    697\u001b[0m \u001b[38;5;28;01mif\u001b[39;00m is_empty:\n\u001b[0;32m--> 698\u001b[0m     \u001b[38;5;28;01mraise\u001b[39;00m \u001b[38;5;167;01mTypeError\u001b[39;00m(\u001b[38;5;124m\"\u001b[39m\u001b[38;5;124mno numeric data to plot\u001b[39m\u001b[38;5;124m\"\u001b[39m)\n\u001b[1;32m    700\u001b[0m \u001b[38;5;28mself\u001b[39m\u001b[38;5;241m.\u001b[39mdata \u001b[38;5;241m=\u001b[39m numeric_data\u001b[38;5;241m.\u001b[39mapply(\u001b[38;5;28mtype\u001b[39m(\u001b[38;5;28mself\u001b[39m)\u001b[38;5;241m.\u001b[39m_convert_to_ndarray)\n",
      "\u001b[0;31mTypeError\u001b[0m: no numeric data to plot"
     ]
    }
   ],
   "source": [
    "df.set_index('last_changed')['state'].plot(figsize=(12,6), title=\"Solar Power Plot\", xlabel ='time')"
   ]
  },
  {
   "cell_type": "code",
   "execution_count": null,
   "id": "3901e9ac-9e54-4e8c-ba40-67223af6d2ea",
   "metadata": {},
   "outputs": [],
   "source": [
    "sns.histplot(df['state'], bins=50)"
   ]
  },
  {
   "cell_type": "code",
   "execution_count": null,
   "id": "c11bb89a-87e0-4f3b-b0ed-b00f5259de13",
   "metadata": {},
   "outputs": [],
   "source": [
    "print(f\"the average power is: {df['state'].mean()}\")\n",
    "print(f\"the Max power is: {df['state'].max()}\")\n",
    "print(f\"the median power is {df['state'].median()}\")"
   ]
  },
  {
   "cell_type": "code",
   "execution_count": null,
   "id": "255bb676-a8b2-4224-84ce-fb425c658540",
   "metadata": {},
   "outputs": [],
   "source": [
    "# 📌 Import libraries\n",
    "import pandas as pd\n",
    "import matplotlib.pyplot as plt\n",
    "import seaborn as sns\n",
    "\n",
    "# Optional: make plots look nicer\n",
    "sns.set_style(\"whitegrid\")\n",
    "%matplotlib inline\n",
    "\n",
    "# -----------------------------\n",
    "# 1️⃣ Load CSV\n",
    "# -----------------------------\n",
    "# Replace with your CSV file path\n",
    "df = pd.read_csv(\"solar_data.csv\", sep=',')  # use sep=';' if needed\n",
    "# Strip extra spaces from column names\n",
    "df.columns = df.columns.str.strip()\n",
    "print(\"Columns:\", df.columns)\n",
    "\n",
    "# -----------------------------\n",
    "# 2️⃣ Convert timestamp column\n",
    "# -----------------------------\n",
    "# Replace 'last_changed' with the exact timestamp column name from your CSV\n",
    "df['last_changed'] = pd.to_datetime(df['last_changed'], errors='coerce')\n",
    "\n",
    "# -----------------------------\n",
    "# 3️⃣ Set as index\n",
    "# -----------------------------\n",
    "df = df.set_index('last_changed')\n",
    "print(\"Index type:\", type(df.index))  # Should be DatetimeIndex\n",
    "\n",
    "# -----------------------------\n",
    "# 4️⃣ Extract date for grouping\n",
    "# -----------------------------\n",
    "df['date'] = df.index.floor('D')  # just the date\n",
    "\n",
    "\n"
   ]
  },
  {
   "cell_type": "code",
   "execution_count": null,
   "id": "6fdb2693-1757-4728-b072-933d14a20034",
   "metadata": {},
   "outputs": [],
   "source": [
    "# -----------------------------\n",
    "# 5️⃣ Summary statistics\n",
    "# -----------------------------\n",
    "daily_group = df.groupby('date')\n",
    "\n",
    "daily_mean = daily_group['state'].mean()\n",
    "daily_max = daily_group['state'].max()\n",
    "daily_median = daily_group['state'].median()\n",
    "daily_peak_time = daily_group['state'].idxmax()\n",
    "\n",
    "print(\"Daily mean:\\n\", daily_mean)\n",
    "print(\"Daily max:\\n\", daily_max)\n",
    "print(\"Daily median:\\n\", daily_median)\n",
    "print(\"Daily peak time:\\n\", daily_peak_time)\n"
   ]
  },
  {
   "cell_type": "code",
   "execution_count": null,
   "id": "35ca7e84-cded-4692-ba7b-faeb18c7ae05",
   "metadata": {},
   "outputs": [],
   "source": [
    "\n",
    "# Line plot: power per day\n",
    "plt.figure(figsize=(12,6))\n",
    "for date, group in daily_group:\n",
    "    plt.plot(group.index, group['state'], label=str(date))\n",
    "plt.title(\"Solar Power per Day\")\n",
    "plt.xlabel(\"Time\")\n",
    "plt.ylabel(\"Power (W)\")\n",
    "plt.legend()\n",
    "plt.show()\n"
   ]
  },
  {
   "cell_type": "code",
   "execution_count": 67,
   "id": "92f6061e-8cd2-4389-ba70-0d092d46a6d9",
   "metadata": {},
   "outputs": [
    {
     "ename": "TypeError",
     "evalue": "'module' object is not callable",
     "output_type": "error",
     "traceback": [
      "\u001b[0;31m---------------------------------------------------------------------------\u001b[0m",
      "\u001b[0;31mTypeError\u001b[0m                                 Traceback (most recent call last)",
      "Cell \u001b[0;32mIn[67], line 2\u001b[0m\n\u001b[1;32m      1\u001b[0m \u001b[38;5;66;03m# Histogram of all readings\u001b[39;00m\n\u001b[0;32m----> 2\u001b[0m \u001b[43mplt\u001b[49m\u001b[38;5;241;43m.\u001b[39;49m\u001b[43mfigure\u001b[49m\u001b[43m(\u001b[49m\u001b[43mfigsize\u001b[49m\u001b[38;5;241;43m=\u001b[39;49m\u001b[43m(\u001b[49m\u001b[38;5;241;43m10\u001b[39;49m\u001b[43m,\u001b[49m\u001b[38;5;241;43m5\u001b[39;49m\u001b[43m)\u001b[49m\u001b[43m)\u001b[49m\n\u001b[1;32m      3\u001b[0m sns\u001b[38;5;241m.\u001b[39mhistplot(df[\u001b[38;5;124m'\u001b[39m\u001b[38;5;124mstate\u001b[39m\u001b[38;5;124m'\u001b[39m], bins\u001b[38;5;241m=\u001b[39m\u001b[38;5;241m50\u001b[39m, color\u001b[38;5;241m=\u001b[39m\u001b[38;5;124m'\u001b[39m\u001b[38;5;124mblue\u001b[39m\u001b[38;5;124m'\u001b[39m, edgecolor\u001b[38;5;241m=\u001b[39m\u001b[38;5;124m'\u001b[39m\u001b[38;5;124mblack\u001b[39m\u001b[38;5;124m'\u001b[39m)\n\u001b[1;32m      4\u001b[0m plt\u001b[38;5;241m.\u001b[39mtitle(\u001b[38;5;124m\"\u001b[39m\u001b[38;5;124mHistogram of Solar Power Readings\u001b[39m\u001b[38;5;124m\"\u001b[39m)\n",
      "\u001b[0;31mTypeError\u001b[0m: 'module' object is not callable"
     ]
    }
   ],
   "source": [
    "\n",
    "# Histogram of all readings\n",
    "plt.figure(figsize=(10,5))\n",
    "sns.histplot(df['state'], bins=50, color='skyblue', edgecolor='red')\n",
    "plt.title(\"Histogram of Solar Power Readings\")\n",
    "plt.xlabel(\"Power (W)\")\n",
    "plt.ylabel(\"Frequency\")\n",
    "plt.show()\n"
   ]
  },
  {
   "cell_type": "code",
   "execution_count": null,
   "id": "0276aaf1-2597-495f-a5ed-57d6ba047858",
   "metadata": {},
   "outputs": [],
   "source": [
    "# Bar plots for daily mean and max\n",
    "daily_mean.plot(kind='bar', figsize=(8,5), title=\"Mean Power per Day\", ylabel=\"Power (W)\")\n",
    "plt.show()\n",
    "daily_max.plot(kind='bar', figsize=(8,5), title=\"Max Power per Day\", ylabel=\"Power (W)\")\n",
    "plt.show()"
   ]
  },
  {
   "cell_type": "code",
   "execution_count": null,
   "id": "f88b3420-5e9f-48ae-8229-e5e95b523b73",
   "metadata": {},
   "outputs": [],
   "source": []
  }
 ],
 "metadata": {
  "kernelspec": {
   "display_name": "Python 3 (ipykernel)",
   "language": "python",
   "name": "python3"
  },
  "language_info": {
   "codemirror_mode": {
    "name": "ipython",
    "version": 3
   },
   "file_extension": ".py",
   "mimetype": "text/x-python",
   "name": "python",
   "nbconvert_exporter": "python",
   "pygments_lexer": "ipython3",
   "version": "3.10.12"
  }
 },
 "nbformat": 4,
 "nbformat_minor": 5
}

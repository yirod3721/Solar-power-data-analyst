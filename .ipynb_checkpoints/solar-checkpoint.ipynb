{
 "cells": [
  {
   "cell_type": "code",
   "execution_count": 1,
   "id": "a651c5fa-2b43-4382-9dee-d1d3cbb8e51e",
   "metadata": {},
   "outputs": [
    {
     "name": "stderr",
     "output_type": "stream",
     "text": [
      "/home/yazan3721/.local/lib/python3.10/site-packages/matplotlib/projections/__init__.py:63: UserWarning: Unable to import Axes3D. This may be due to multiple versions of Matplotlib being installed (e.g. as a system package and as a pip package). As a result, the 3D projection is not available.\n",
      "  warnings.warn(\"Unable to import Axes3D. This may be due to multiple versions of \"\n"
     ]
    }
   ],
   "source": [
    "import pandas as pd\n",
    "import matplotlib as plt\n",
    "import numpy as np\n",
    "import seaborn as sns\n",
    "sns.set_theme()\n",
    "%matplotlib inline"
   ]
  },
  {
   "cell_type": "code",
   "execution_count": 4,
   "id": "33a8e5f0-ba1e-4ec1-9a35-14dcc895de4e",
   "metadata": {},
   "outputs": [
    {
     "data": {
      "text/html": [
       "<div>\n",
       "<style scoped>\n",
       "    .dataframe tbody tr th:only-of-type {\n",
       "        vertical-align: middle;\n",
       "    }\n",
       "\n",
       "    .dataframe tbody tr th {\n",
       "        vertical-align: top;\n",
       "    }\n",
       "\n",
       "    .dataframe thead th {\n",
       "        text-align: right;\n",
       "    }\n",
       "</style>\n",
       "<table border=\"1\" class=\"dataframe\">\n",
       "  <thead>\n",
       "    <tr style=\"text-align: right;\">\n",
       "      <th></th>\n",
       "      <th>entity_id</th>\n",
       "      <th>state</th>\n",
       "      <th>last_changed</th>\n",
       "    </tr>\n",
       "  </thead>\n",
       "  <tbody>\n",
       "    <tr>\n",
       "      <th>0</th>\n",
       "      <td>sensor.axpert_king_pv_power</td>\n",
       "      <td>0</td>\n",
       "      <td>2025-09-18T21:00:00.000Z</td>\n",
       "    </tr>\n",
       "    <tr>\n",
       "      <th>1</th>\n",
       "      <td>sensor.axpert_king_pv_power</td>\n",
       "      <td>3</td>\n",
       "      <td>2025-09-19T03:36:56.475Z</td>\n",
       "    </tr>\n",
       "    <tr>\n",
       "      <th>2</th>\n",
       "      <td>sensor.axpert_king_pv_power</td>\n",
       "      <td>0</td>\n",
       "      <td>2025-09-19T03:37:18.333Z</td>\n",
       "    </tr>\n",
       "    <tr>\n",
       "      <th>3</th>\n",
       "      <td>sensor.axpert_king_pv_power</td>\n",
       "      <td>5</td>\n",
       "      <td>2025-09-19T03:37:26.198Z</td>\n",
       "    </tr>\n",
       "    <tr>\n",
       "      <th>4</th>\n",
       "      <td>sensor.axpert_king_pv_power</td>\n",
       "      <td>3</td>\n",
       "      <td>2025-09-19T03:37:40.177Z</td>\n",
       "    </tr>\n",
       "    <tr>\n",
       "      <th>5</th>\n",
       "      <td>sensor.axpert_king_pv_power</td>\n",
       "      <td>8</td>\n",
       "      <td>2025-09-19T03:37:48.052Z</td>\n",
       "    </tr>\n",
       "    <tr>\n",
       "      <th>6</th>\n",
       "      <td>sensor.axpert_king_pv_power</td>\n",
       "      <td>12</td>\n",
       "      <td>2025-09-19T03:38:09.759Z</td>\n",
       "    </tr>\n",
       "    <tr>\n",
       "      <th>7</th>\n",
       "      <td>sensor.axpert_king_pv_power</td>\n",
       "      <td>14</td>\n",
       "      <td>2025-09-19T03:38:13.705Z</td>\n",
       "    </tr>\n",
       "    <tr>\n",
       "      <th>8</th>\n",
       "      <td>sensor.axpert_king_pv_power</td>\n",
       "      <td>19</td>\n",
       "      <td>2025-09-19T03:38:23.706Z</td>\n",
       "    </tr>\n",
       "    <tr>\n",
       "      <th>9</th>\n",
       "      <td>sensor.axpert_king_pv_power</td>\n",
       "      <td>17</td>\n",
       "      <td>2025-09-19T03:38:27.664Z</td>\n",
       "    </tr>\n",
       "  </tbody>\n",
       "</table>\n",
       "</div>"
      ],
      "text/plain": [
       "                     entity_id  state              last_changed\n",
       "0  sensor.axpert_king_pv_power      0  2025-09-18T21:00:00.000Z\n",
       "1  sensor.axpert_king_pv_power      3  2025-09-19T03:36:56.475Z\n",
       "2  sensor.axpert_king_pv_power      0  2025-09-19T03:37:18.333Z\n",
       "3  sensor.axpert_king_pv_power      5  2025-09-19T03:37:26.198Z\n",
       "4  sensor.axpert_king_pv_power      3  2025-09-19T03:37:40.177Z\n",
       "5  sensor.axpert_king_pv_power      8  2025-09-19T03:37:48.052Z\n",
       "6  sensor.axpert_king_pv_power     12  2025-09-19T03:38:09.759Z\n",
       "7  sensor.axpert_king_pv_power     14  2025-09-19T03:38:13.705Z\n",
       "8  sensor.axpert_king_pv_power     19  2025-09-19T03:38:23.706Z\n",
       "9  sensor.axpert_king_pv_power     17  2025-09-19T03:38:27.664Z"
      ]
     },
     "execution_count": 4,
     "metadata": {},
     "output_type": "execute_result"
    }
   ],
   "source": [
    "df = pd.read_csv(\"solar_data.csv\")\n",
    "df.head(n=10)"
   ]
  },
  {
   "cell_type": "code",
   "execution_count": 8,
   "id": "4cef2355-1807-4e0b-b99e-d116b1b83792",
   "metadata": {},
   "outputs": [
    {
     "data": {
      "text/plain": [
       "(26384, 3)"
      ]
     },
     "execution_count": 8,
     "metadata": {},
     "output_type": "execute_result"
    }
   ],
   "source": [
    "df.shape"
   ]
  },
  {
   "cell_type": "code",
   "execution_count": 9,
   "id": "adaf9bad-80cd-4292-b86e-9cc9a9e37f02",
   "metadata": {},
   "outputs": [
    {
     "data": {
      "text/plain": [
       "<bound method DataFrame.info of                          entity_id  state              last_changed\n",
       "0      sensor.axpert_king_pv_power      0  2025-09-18T21:00:00.000Z\n",
       "1      sensor.axpert_king_pv_power      3  2025-09-19T03:36:56.475Z\n",
       "2      sensor.axpert_king_pv_power      0  2025-09-19T03:37:18.333Z\n",
       "3      sensor.axpert_king_pv_power      5  2025-09-19T03:37:26.198Z\n",
       "4      sensor.axpert_king_pv_power      3  2025-09-19T03:37:40.177Z\n",
       "...                            ...    ...                       ...\n",
       "26379  sensor.axpert_king_pv_power   2536  2025-09-20T14:26:55.337Z\n",
       "26380  sensor.axpert_king_pv_power   2534  2025-09-20T14:26:57.316Z\n",
       "26381  sensor.axpert_king_pv_power   2533  2025-09-20T14:26:59.255Z\n",
       "26382  sensor.axpert_king_pv_power   2534  2025-09-20T14:27:01.233Z\n",
       "26383  sensor.axpert_king_pv_power   2532  2025-09-20T14:27:03.189Z\n",
       "\n",
       "[26384 rows x 3 columns]>"
      ]
     },
     "execution_count": 9,
     "metadata": {},
     "output_type": "execute_result"
    }
   ],
   "source": [
    "df.info"
   ]
  },
  {
   "cell_type": "code",
   "execution_count": 10,
   "id": "687e05cc-d77b-47be-bb5c-df43e3ba1d5f",
   "metadata": {},
   "outputs": [
    {
     "data": {
      "text/plain": [
       "<bound method NDFrame.describe of                          entity_id  state              last_changed\n",
       "0      sensor.axpert_king_pv_power      0  2025-09-18T21:00:00.000Z\n",
       "1      sensor.axpert_king_pv_power      3  2025-09-19T03:36:56.475Z\n",
       "2      sensor.axpert_king_pv_power      0  2025-09-19T03:37:18.333Z\n",
       "3      sensor.axpert_king_pv_power      5  2025-09-19T03:37:26.198Z\n",
       "4      sensor.axpert_king_pv_power      3  2025-09-19T03:37:40.177Z\n",
       "...                            ...    ...                       ...\n",
       "26379  sensor.axpert_king_pv_power   2536  2025-09-20T14:26:55.337Z\n",
       "26380  sensor.axpert_king_pv_power   2534  2025-09-20T14:26:57.316Z\n",
       "26381  sensor.axpert_king_pv_power   2533  2025-09-20T14:26:59.255Z\n",
       "26382  sensor.axpert_king_pv_power   2534  2025-09-20T14:27:01.233Z\n",
       "26383  sensor.axpert_king_pv_power   2532  2025-09-20T14:27:03.189Z\n",
       "\n",
       "[26384 rows x 3 columns]>"
      ]
     },
     "execution_count": 10,
     "metadata": {},
     "output_type": "execute_result"
    }
   ],
   "source": [
    "df.describe"
   ]
  },
  {
   "cell_type": "code",
   "execution_count": 12,
   "id": "4ff7fdf1-e996-4357-ad02-c2b1d04fb289",
   "metadata": {},
   "outputs": [
    {
     "data": {
      "text/html": [
       "<div>\n",
       "<style scoped>\n",
       "    .dataframe tbody tr th:only-of-type {\n",
       "        vertical-align: middle;\n",
       "    }\n",
       "\n",
       "    .dataframe tbody tr th {\n",
       "        vertical-align: top;\n",
       "    }\n",
       "\n",
       "    .dataframe thead th {\n",
       "        text-align: right;\n",
       "    }\n",
       "</style>\n",
       "<table border=\"1\" class=\"dataframe\">\n",
       "  <thead>\n",
       "    <tr style=\"text-align: right;\">\n",
       "      <th></th>\n",
       "      <th>entity_id</th>\n",
       "      <th>state</th>\n",
       "      <th>last_changed</th>\n",
       "    </tr>\n",
       "  </thead>\n",
       "  <tbody>\n",
       "    <tr>\n",
       "      <th>0</th>\n",
       "      <td>sensor.axpert_king_pv_power</td>\n",
       "      <td>0</td>\n",
       "      <td>2025-09-18 21:00:00+00:00</td>\n",
       "    </tr>\n",
       "    <tr>\n",
       "      <th>1</th>\n",
       "      <td>sensor.axpert_king_pv_power</td>\n",
       "      <td>3</td>\n",
       "      <td>2025-09-19 03:36:56.475000+00:00</td>\n",
       "    </tr>\n",
       "    <tr>\n",
       "      <th>2</th>\n",
       "      <td>sensor.axpert_king_pv_power</td>\n",
       "      <td>0</td>\n",
       "      <td>2025-09-19 03:37:18.333000+00:00</td>\n",
       "    </tr>\n",
       "    <tr>\n",
       "      <th>3</th>\n",
       "      <td>sensor.axpert_king_pv_power</td>\n",
       "      <td>5</td>\n",
       "      <td>2025-09-19 03:37:26.198000+00:00</td>\n",
       "    </tr>\n",
       "    <tr>\n",
       "      <th>4</th>\n",
       "      <td>sensor.axpert_king_pv_power</td>\n",
       "      <td>3</td>\n",
       "      <td>2025-09-19 03:37:40.177000+00:00</td>\n",
       "    </tr>\n",
       "    <tr>\n",
       "      <th>...</th>\n",
       "      <td>...</td>\n",
       "      <td>...</td>\n",
       "      <td>...</td>\n",
       "    </tr>\n",
       "    <tr>\n",
       "      <th>26379</th>\n",
       "      <td>sensor.axpert_king_pv_power</td>\n",
       "      <td>2536</td>\n",
       "      <td>2025-09-20 14:26:55.337000+00:00</td>\n",
       "    </tr>\n",
       "    <tr>\n",
       "      <th>26380</th>\n",
       "      <td>sensor.axpert_king_pv_power</td>\n",
       "      <td>2534</td>\n",
       "      <td>2025-09-20 14:26:57.316000+00:00</td>\n",
       "    </tr>\n",
       "    <tr>\n",
       "      <th>26381</th>\n",
       "      <td>sensor.axpert_king_pv_power</td>\n",
       "      <td>2533</td>\n",
       "      <td>2025-09-20 14:26:59.255000+00:00</td>\n",
       "    </tr>\n",
       "    <tr>\n",
       "      <th>26382</th>\n",
       "      <td>sensor.axpert_king_pv_power</td>\n",
       "      <td>2534</td>\n",
       "      <td>2025-09-20 14:27:01.233000+00:00</td>\n",
       "    </tr>\n",
       "    <tr>\n",
       "      <th>26383</th>\n",
       "      <td>sensor.axpert_king_pv_power</td>\n",
       "      <td>2532</td>\n",
       "      <td>2025-09-20 14:27:03.189000+00:00</td>\n",
       "    </tr>\n",
       "  </tbody>\n",
       "</table>\n",
       "<p>26384 rows × 3 columns</p>\n",
       "</div>"
      ],
      "text/plain": [
       "                         entity_id  state                     last_changed\n",
       "0      sensor.axpert_king_pv_power      0        2025-09-18 21:00:00+00:00\n",
       "1      sensor.axpert_king_pv_power      3 2025-09-19 03:36:56.475000+00:00\n",
       "2      sensor.axpert_king_pv_power      0 2025-09-19 03:37:18.333000+00:00\n",
       "3      sensor.axpert_king_pv_power      5 2025-09-19 03:37:26.198000+00:00\n",
       "4      sensor.axpert_king_pv_power      3 2025-09-19 03:37:40.177000+00:00\n",
       "...                            ...    ...                              ...\n",
       "26379  sensor.axpert_king_pv_power   2536 2025-09-20 14:26:55.337000+00:00\n",
       "26380  sensor.axpert_king_pv_power   2534 2025-09-20 14:26:57.316000+00:00\n",
       "26381  sensor.axpert_king_pv_power   2533 2025-09-20 14:26:59.255000+00:00\n",
       "26382  sensor.axpert_king_pv_power   2534 2025-09-20 14:27:01.233000+00:00\n",
       "26383  sensor.axpert_king_pv_power   2532 2025-09-20 14:27:03.189000+00:00\n",
       "\n",
       "[26384 rows x 3 columns]"
      ]
     },
     "execution_count": 12,
     "metadata": {},
     "output_type": "execute_result"
    }
   ],
   "source": [
    "df['last_changed'] = pd.to_datetime(df['last_changed'], errors='coerce')\n",
    "df.dropna()\n",
    "df.drop_duplicates()"
   ]
  },
  {
   "cell_type": "code",
   "execution_count": 13,
   "id": "fa78c334-09d4-4f8b-8aba-1b017139c6f4",
   "metadata": {},
   "outputs": [
    {
     "ename": "NameError",
     "evalue": "name 'figsize' is not defined",
     "output_type": "error",
     "traceback": [
      "\u001b[0;31m---------------------------------------------------------------------------\u001b[0m",
      "\u001b[0;31mNameError\u001b[0m                                 Traceback (most recent call last)",
      "Cell \u001b[0;32mIn[13], line 1\u001b[0m\n\u001b[0;32m----> 1\u001b[0m df\u001b[38;5;241m.\u001b[39mset_index(\u001b[38;5;124m'\u001b[39m\u001b[38;5;124mlast_changed\u001b[39m\u001b[38;5;124m'\u001b[39m)[\u001b[38;5;124m'\u001b[39m\u001b[38;5;124mstate\u001b[39m\u001b[38;5;124m'\u001b[39m]\u001b[38;5;241m.\u001b[39mplot(\u001b[43mfigsize\u001b[49m(\u001b[38;5;241m12\u001b[39m,\u001b[38;5;241m6\u001b[39m), title\u001b[38;5;241m=\u001b[39m\u001b[38;5;124m\"\u001b[39m\u001b[38;5;124mSolar Power Plot\u001b[39m\u001b[38;5;124m\"\u001b[39m)\n",
      "\u001b[0;31mNameError\u001b[0m: name 'figsize' is not defined"
     ]
    }
   ],
   "source": [
    "df.set_index('last_changed')['state'].plot(figsize=(12,6), title=\"Solar Power Plot\")"
   ]
  }
 ],
 "metadata": {
  "kernelspec": {
   "display_name": "Python 3 (ipykernel)",
   "language": "python",
   "name": "python3"
  },
  "language_info": {
   "codemirror_mode": {
    "name": "ipython",
    "version": 3
   },
   "file_extension": ".py",
   "mimetype": "text/x-python",
   "name": "python",
   "nbconvert_exporter": "python",
   "pygments_lexer": "ipython3",
   "version": "3.10.12"
  }
 },
 "nbformat": 4,
 "nbformat_minor": 5
}
